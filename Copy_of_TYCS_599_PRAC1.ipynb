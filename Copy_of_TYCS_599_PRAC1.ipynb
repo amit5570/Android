{
  "nbformat": 4,
  "nbformat_minor": 0,
  "metadata": {
    "colab": {
      "name": "Copy of TYCS_599_PRAC1.ipynb",
      "provenance": [],
      "collapsed_sections": [],
      "authorship_tag": "ABX9TyNaCB+FZo+uNaX//cQIZfFs",
      "include_colab_link": true
    },
    "kernelspec": {
      "name": "python3",
      "display_name": "Python 3"
    }
  },
  "cells": [
    {
      "cell_type": "markdown",
      "metadata": {
        "id": "view-in-github",
        "colab_type": "text"
      },
      "source": [
        "<a href=\"https://colab.research.google.com/github/amit5570/Android/blob/master/Copy_of_TYCS_599_PRAC1.ipynb\" target=\"_parent\"><img src=\"https://colab.research.google.com/assets/colab-badge.svg\" alt=\"Open In Colab\"/></a>"
      ]
    },
    {
      "cell_type": "markdown",
      "metadata": {
        "id": "5OWOnUZ0zuw5"
      },
      "source": [
        "PRACTICAL:1\n",
        " \n",
        "A) IMPLEMENT BREATH FIRST SEARCH"
      ]
    },
    {
      "cell_type": "code",
      "metadata": {
        "id": "_8xOUyzQyDP0",
        "outputId": "f3f7fb68-7514-41ff-ab5d-39c4c6cd6277",
        "colab": {
          "base_uri": "https://localhost:8080/"
        }
      },
      "source": [
        " graph = {'A': set(['B', 'C']),\n",
        "         'B': set(['A', 'D', 'E']),\n",
        "         'C': set(['A', 'F']),\n",
        "         'D': set(['B']),\n",
        "         'E': set(['B', 'F']),\n",
        "         'F': set(['C', 'E'])}\n",
        " \n",
        "def dfs_paths(graph, start, goal):\n",
        "    stack = [(start, [start])]\n",
        "    while stack:\n",
        "        (vertex, path) = stack.pop()\n",
        "        for next in graph[vertex] - set(path):\n",
        "            if next == goal:\n",
        "                yield path + [next]\n",
        "            else:\n",
        "                stack.append((next, path + [next]))\n",
        "print(\"Amit_599\")\n",
        "list(dfs_paths(graph, 'A', 'F'))"
      ],
      "execution_count": null,
      "outputs": [
        {
          "output_type": "stream",
          "text": [
            "Amit_599\n"
          ],
          "name": "stdout"
        },
        {
          "output_type": "execute_result",
          "data": {
            "text/plain": [
              "[['A', 'C', 'F'], ['A', 'B', 'E', 'F']]"
            ]
          },
          "metadata": {
            "tags": []
          },
          "execution_count": 3
        }
      ]
    },
    {
      "cell_type": "markdown",
      "metadata": {
        "id": "ldjrzvan3aYT"
      },
      "source": [
        "B) IMPLEMENT DEPTH FIRST SEARCH"
      ]
    },
    {
      "cell_type": "code",
      "metadata": {
        "id": "_d1ZUYfW39_u",
        "outputId": "9706961a-e4a0-4743-a085-4486cf1272cc",
        "colab": {
          "base_uri": "https://localhost:8080/"
        }
      },
      "source": [
        " graph = {'A': set(['B', 'C']),\n",
        "         'B': set(['A', 'D', 'E']),\n",
        "         'C': set(['A', 'F']),\n",
        "         'D': set(['B']),\n",
        "         'E': set(['B', 'F']),\n",
        "         'F': set(['C', 'E'])}\n",
        " \n",
        "def dfs_paths(graph, start, goal):\n",
        "    stack = [(start, [start])]\n",
        "    while stack:\n",
        "        (vertex, path) = stack.pop()\n",
        "        for next in graph[vertex] - set(path):\n",
        "            if next == goal:\n",
        "                yield path + [next]\n",
        "            else:\n",
        "                stack.append((next, path + [next]))\n",
        "print(\"Amit_599\")\n",
        "list(dfs_paths(graph, 'A', 'F'))"
      ],
      "execution_count": null,
      "outputs": [
        {
          "output_type": "stream",
          "text": [
            "Amit_599\n"
          ],
          "name": "stdout"
        },
        {
          "output_type": "execute_result",
          "data": {
            "text/plain": [
              "[['A', 'C', 'F'], ['A', 'B', 'E', 'F']]"
            ]
          },
          "metadata": {
            "tags": []
          },
          "execution_count": 5
        }
      ]
    },
    {
      "cell_type": "markdown",
      "metadata": {
        "id": "RQOqOJdE4JkG"
      },
      "source": [
        "C) Iterative Deepening DFS Search"
      ]
    },
    {
      "cell_type": "code",
      "metadata": {
        "id": "b1p55UlG4YUN",
        "outputId": "8031dbd8-3f2d-436d-a51e-8ff1d0a43579",
        "colab": {
          "base_uri": "https://localhost:8080/"
        }
      },
      "source": [
        " graph_demo = {\n",
        "    '0': ['1'],\n",
        "    '1': ['0', '2'],\n",
        "    '2': ['3', '5', '7', '8'],\n",
        "    '3': ['9', '10'],\n",
        "    '5':['2', '6', '7', '8'],\n",
        "    '6':['5'],\n",
        "    '7':['2','5', '8'],\n",
        "    '8':['2','5', '7'],\n",
        "    '9':['3'],\n",
        "    '10':['3'],  \n",
        "}\n",
        " \n",
        " \n",
        "def DLS(source,depth):\n",
        "    start=graph_demo[source]\n",
        "    print(source, end=' ')\n",
        "    if start[0] is None:\n",
        "        return\n",
        "    if depth==0:\n",
        "        return\n",
        "    else:\n",
        "        for location in start:\n",
        "            listt = location\n",
        "            for place in listt:\n",
        "                DLS(place,depth-1)\n",
        " \n",
        "def iddfs(source,max_height):\n",
        "    for i in range(max_height+1):\n",
        "        print('depth: '+str(i)+': ',end=' ')\n",
        "        DLS(source,i)\n",
        "        print()\n",
        " \n",
        "iddfs('0',4)\n",
        "print('Amit_599')"
      ],
      "execution_count": null,
      "outputs": [
        {
          "output_type": "stream",
          "text": [
            "depth: 0:  0 \n",
            "depth: 1:  0 1 \n",
            "depth: 2:  0 1 0 2 \n",
            "depth: 3:  0 1 0 1 2 3 5 7 8 \n",
            "depth: 4:  0 1 0 1 0 2 2 3 9 1 0 5 2 6 7 8 7 2 5 8 8 2 5 7 \n",
            "Amit_599\n"
          ],
          "name": "stdout"
        }
      ]
    },
    {
      "cell_type": "markdown",
      "metadata": {
        "id": "KlGBQk0L4uOo"
      },
      "source": [
        " PRACTICAL NO:- 2\n",
        "A) Implement A* Search Algorithm"
      ]
    },
    {
      "cell_type": "code",
      "metadata": {
        "id": "XXDBKwxR40_W",
        "outputId": "16ae7946-3147-4e87-f54d-1f9d6a98acc7",
        "colab": {
          "base_uri": "https://localhost:8080/"
        }
      },
      "source": [
        " from collections import deque\n",
        " \n",
        "class Graph:\n",
        "   \n",
        "    def __init__(self, adjacency_list):\n",
        "        self.adjacency_list = adjacency_list\n",
        " \n",
        "    def get_neighbors(self, v):\n",
        "        return self.adjacency_list[v]\n",
        " \n",
        "    # heuristic function with equal values for all nodes\n",
        "    def h(self, n):\n",
        "        H = {\n",
        "            'A': 1,\n",
        "            'B': 1,\n",
        "            'C': 1,\n",
        "            'D': 1\n",
        "        }\n",
        " \n",
        "        return H[n]\n",
        " \n",
        "    def a_star_algorithm(self, start_node, stop_node):\n",
        "        open_list = set([start_node])\n",
        "        closed_list = set([])\n",
        "        g = {}\n",
        " \n",
        "        g[start_node] = 0\n",
        "        parents = {}\n",
        "        parents[start_node] = start_node\n",
        " \n",
        "        while len(open_list) > 0:\n",
        "            n = None\n",
        "            for v in open_list:\n",
        "                if n == None or g[v] + self.h(v) < g[n] + self.h(n):\n",
        "                    n = v;\n",
        " \n",
        "            if n == None:\n",
        "                print('Path does not exist!')\n",
        "                return None\n",
        "            if n == stop_node:\n",
        "                reconst_path = []\n",
        " \n",
        "                while parents[n] != n:\n",
        "                    reconst_path.append(n)\n",
        "                    n = parents[n]\n",
        " \n",
        "                reconst_path.append(start_node)\n",
        " \n",
        "                reconst_path.reverse()\n",
        " \n",
        "                print('Path found: {}'.format(reconst_path))\n",
        "                return reconst_path\n",
        "            for (m, weight) in self.get_neighbors(n):\n",
        "                if m not in open_list and m not in closed_list:\n",
        "                    open_list.add(m)\n",
        "                    parents[m] = n\n",
        "                    g[m] = g[n] + weight\n",
        "                else:\n",
        "                    if g[m] > g[n] + weight:\n",
        "                        g[m] = g[n] + weight\n",
        "                        parents[m] = n\n",
        "                        if m in closed_list:\n",
        "                            closed_list.remove(m)\n",
        "                            open_list.add(m)\n",
        "            open_list.remove(n)\n",
        "            closed_list.add(n)\n",
        "        print('Path does not exist!')\n",
        "        return None\n",
        "adjacency_list = {\n",
        "    'A': [('B', 1), ('C', 3), ('D', 7)],\n",
        "    'B': [('D', 5)],\n",
        "    'C': [('D', 12)]\n",
        "}\n",
        "graph1 = Graph(adjacency_list)\n",
        "graph1.a_star_algorithm('A', 'D')\n",
        "print('Amit_599')"
      ],
      "execution_count": null,
      "outputs": [
        {
          "output_type": "stream",
          "text": [
            "Path found: ['A', 'B', 'D']\n",
            "Amit_599\n"
          ],
          "name": "stdout"
        }
      ]
    },
    {
      "cell_type": "markdown",
      "metadata": {
        "id": "9Y0s1dfg5Ig6"
      },
      "source": [
        " B) Implement recursive best-first search algorithm"
      ]
    },
    {
      "cell_type": "code",
      "metadata": {
        "id": "6jadpKqv5N4q",
        "outputId": "cfd19da3-ceb9-441d-8876-b43a4a008de5",
        "colab": {
          "base_uri": "https://localhost:8080/"
        }
      },
      "source": [
        " class Graph:\n",
        "    def __init__(self, graph_dict=None, directed=True):\n",
        "        self.graph_dict = graph_dict or {}\n",
        "        self.directed = directed\n",
        "        if not directed:\n",
        "            self.make_undirected()\n",
        "    def make_undirected(self):\n",
        "        for a in list(self.graph_dict.keys()):\n",
        "            for (b, dist) in self.graph_dict[a].items():\n",
        "                self.graph_dict.setdefault(b, {})[a] = dist\n",
        "    def connect(self, A, B, distance=1):\n",
        "        self.graph_dict.setdefault(A, {})[B] = distance\n",
        "        if not self.directed:\n",
        "            self.graph_dict.setdefault(B, {})[A] = distance\n",
        "    def get(self, a, b=None):\n",
        "        links = self.graph_dict.setdefault(a, {})\n",
        "        if b is None:\n",
        "            return links\n",
        "        else:\n",
        "            return links.get(b)\n",
        "    def nodes(self):\n",
        "        s1 = set([k for k in self.graph_dict.keys()])\n",
        "        s2 = set([k2 for v in self.graph_dict.values() for k2, v2 in v.items()])\n",
        "        nodes = s1.union(s2)\n",
        "        return list(nodes)\n",
        "class Node:\n",
        "    def __init__(self, name:str, parent:str):\n",
        "        self.name = name\n",
        "        self.parent = parent\n",
        "        self.g = 0 \n",
        "        self.h = 0 \n",
        "    def __eq__(self, other):\n",
        "        return self.name == other.name\n",
        "    def __lt__(self, other):\n",
        "         return self.f < other.f\n",
        "    def __repr__(self):\n",
        "        return ('({0},{1})'.format(self.position, self.f))\n",
        "def best_first_search(graph, heuristics, start, end):\n",
        "    open = []\n",
        "    closed = []\n",
        "    start_node = Node(start, None)\n",
        "    goal_node = Node(end, None)\n",
        "    open.append(start_node)\n",
        "    while len(open) > 0:\n",
        "        open.sort()\n",
        "        current_node = open.pop(0)\n",
        "        closed.append(current_node)\n",
        "        if current_node == goal_node:\n",
        "            path = []\n",
        "            while current_node != start_node:\n",
        "                path.append(current_node.name + ': ' + str(current_node.g))\n",
        "                current_node = current_node.parent\n",
        "            path.append(start_node.name + ': ' + str(start_node.g))\n",
        "            return path[::-1]\n",
        "        neighbors = graph.get(current_node.name)\n",
        "        for key, value in neighbors.items():\n",
        "            neighbor = Node(key, current_node)\n",
        "            if(neighbor in closed):\n",
        "                continue\n",
        "            # Calculate cost to goal\n",
        "            neighbor.g = current_node.g + graph.get(current_node.name, neighbor.name)\n",
        "            neighbor.h = heuristics.get(neighbor.name)\n",
        "            neighbor.f = neighbor.h\n",
        "            # Check if neighbor is in open list and if it has a lower f value\n",
        "            if(add_to_open(open, neighbor) == True):\n",
        "                # Everything is green, add neighbor to open list\n",
        "                open.append(neighbor)\n",
        "    # Return None, no path is found\n",
        "    return None\n",
        "# Check if a neighbor should be added to open list\n",
        "def add_to_open(open, neighbor):\n",
        "    for node in open:\n",
        "        if (neighbor == node and neighbor.f >= node.f):\n",
        "            return False\n",
        "    return True\n",
        "# The main entry point for this module\n",
        "def main():\n",
        "    # Create a graph\n",
        "    graph = Graph()\n",
        "    # Create graph connections (Actual distance)\n",
        "    graph.connect('Frankfurt', 'Wurzburg', 111)\n",
        "    graph.connect('Frankfurt', 'Mannheim', 85)\n",
        "    graph.connect('Wurzburg', 'Nurnberg', 104)\n",
        "    graph.connect('Wurzburg', 'Stuttgart', 140)\n",
        "    graph.connect('Wurzburg', 'Ulm', 183)\n",
        "    graph.connect('Mannheim', 'Nurnberg', 230)\n",
        "    graph.connect('Mannheim', 'Karlsruhe', 67)\n",
        "    graph.connect('Karlsruhe', 'Basel', 191)\n",
        "    graph.connect('Karlsruhe', 'Stuttgart', 64)\n",
        "    graph.connect('Nurnberg', 'Ulm', 171)\n",
        "    graph.connect('Nurnberg', 'Munchen', 170)\n",
        "    graph.connect('Nurnberg', 'Passau', 220)\n",
        "    graph.connect('Stuttgart', 'Ulm', 107)\n",
        "    graph.connect('Basel', 'Bern', 91)\n",
        "    graph.connect('Basel', 'Zurich', 85)\n",
        "    graph.connect('Bern', 'Zurich', 120)\n",
        "    graph.connect('Zurich', 'Memmingen', 184)\n",
        "    graph.connect('Memmingen', 'Ulm', 55)\n",
        "    graph.connect('Memmingen', 'Munchen', 115)\n",
        "    graph.connect('Munchen', 'Ulm', 123)\n",
        "    graph.connect('Munchen', 'Passau', 189)\n",
        "    graph.connect('Munchen', 'Rosenheim', 59)\n",
        "    graph.connect('Rosenheim', 'Salzburg', 81)\n",
        "    graph.connect('Passau', 'Linz', 102)\n",
        "    graph.connect('Salzburg', 'Linz', 126)\n",
        "    # Make graph undirected, create symmetric connections\n",
        "    graph.make_undirected()\n",
        "    # Create heuristics (straight-line distance, air-travel distance)\n",
        "    heuristics = {}\n",
        "    heuristics['Basel'] = 204\n",
        "    heuristics['Bern'] = 247\n",
        "    heuristics['Frankfurt'] = 215\n",
        "    heuristics['Karlsruhe'] = 137\n",
        "    heuristics['Linz'] = 318\n",
        "    heuristics['Mannheim'] = 164\n",
        "    heuristics['Munchen'] = 120\n",
        "    heuristics['Memmingen'] = 47\n",
        "    heuristics['Nurnberg'] = 132\n",
        "    heuristics['Passau'] = 257\n",
        "    heuristics['Rosenheim'] = 168\n",
        "    heuristics['Stuttgart'] = 75\n",
        "    heuristics['Salzburg'] = 236\n",
        "    heuristics['Wurzburg'] = 153\n",
        "    heuristics['Zurich'] = 157\n",
        "    heuristics['Ulm'] = 0\n",
        "    # Run search algorithm\n",
        "    path = best_first_search(graph, heuristics, 'Frankfurt', 'Munchen')\n",
        "    print(path)\n",
        "    print()\n",
        " \n",
        "# Tell python to run main method\n",
        "if __name__ == \"__main__\": main()\n",
        "print('Amit_599')"
      ],
      "execution_count": null,
      "outputs": [
        {
          "output_type": "stream",
          "text": [
            "['Frankfurt: 0', 'Wurzburg: 111', 'Ulm: 294', 'Munchen: 417']\n",
            "\n",
            "Amit_599\n"
          ],
          "name": "stdout"
        }
      ]
    },
    {
      "cell_type": "markdown",
      "metadata": {
        "id": "wOtywxRy7lHO"
      },
      "source": [
        " PRACTICAL NO:-5 PERFORMING AND and OR OPERATION"
      ]
    },
    {
      "cell_type": "code",
      "metadata": {
        "id": "YCFRWayZ8EHr",
        "outputId": "6528119a-02f2-4e4f-879b-dde79da7d415",
        "colab": {
          "base_uri": "https://localhost:8080/"
        }
      },
      "source": [
        " import numpy as np\n",
        "def unitStep(v):\n",
        "    if v>= 0:\n",
        "        return 1\n",
        "    else:\n",
        "        return 0\n",
        "def perceptronModel(x,w,b):\n",
        "    v=np.dot(w,x)+b\n",
        "    y=unitStep(v)\n",
        "    return y\n",
        "def AND_logicFunction(x):\n",
        "    w=np.array([1,1])\n",
        "    b=-1.5\n",
        "    return perceptronModel(x,w,b)\n",
        "def OR_logicFunction(x):\n",
        "    w=np.array([1,1])\n",
        "    b=-0.5\n",
        "    return perceptronModel(x,w,b)\n",
        " \n",
        "    \n",
        "test1=np.array([0,0])\n",
        "test2=np.array([0,1])\n",
        "test3 = np.array([1,0])\n",
        "test4 = np.array([1,1])\n",
        " \n",
        "print(\"AND logicfunction\")\n",
        "print(\"AND({},{})={}\".format(0,0,AND_logicFunction(test1)))\n",
        "print(\"AND({},{})={}\".format(0,1,AND_logicFunction(test2)))\n",
        "print(\"AND({},{})={}\".format(1,0,AND_logicFunction(test3)))\n",
        "print(\"AND({},{})={}\".format(1,1,AND_logicFunction(test4)))\n",
        " \n",
        "print(\"OR logicfunction\")\n",
        "print(\"OR({},{})={}\".format(0,0,OR_logicFunction(test1)))\n",
        "print(\"OR({},{})={}\".format(0,1,OR_logicFunction(test2)))\n",
        "print(\"OR({},{})={}\".format(1,0,OR_logicFunction(test3)))\n",
        "print(\"OR({},{})={}\".format(1,1,OR_logicFunction(test4)))\n",
        " \n",
        "print(\"=====\")\n",
        "print('Amit_599')"
      ],
      "execution_count": null,
      "outputs": [
        {
          "output_type": "stream",
          "text": [
            "AND logicfunction\n",
            "AND(0,0)=0\n",
            "AND(0,1)=0\n",
            "AND(1,0)=0\n",
            "AND(1,1)=1\n",
            "OR logicfunction\n",
            "OR(0,0)=0\n",
            "OR(0,1)=1\n",
            "OR(1,0)=1\n",
            "OR(1,1)=1\n",
            "=====\n",
            "Amit_599\n"
          ],
          "name": "stdout"
        }
      ]
    },
    {
      "cell_type": "markdown",
      "metadata": {
        "id": "lWsfwekG8WTe"
      },
      "source": [
        " PRACTICAL NO:- 6CAT vs NonCat"
      ]
    },
    {
      "cell_type": "code",
      "metadata": {
        "id": "CMeKRtOm831_"
      },
      "source": [
        " import numpy as np\n",
        "import matplotlib.pyplot as plt\n",
        "import h5py\n",
        "import scipy\n",
        "from PIL import Image\n",
        "from scipy import ndimage\n",
        "%matplotlib inline\n",
        " \n",
        "def load_dataset():\n",
        "    train_dataset = h5py.File('/content/train_catvnoncat (1).h5', \"r\")\n",
        "    train_set_x_orig = np.array(train_dataset[\"train_set_x\"][:]) # your train set features\n",
        "    train_set_y_orig = np.array(train_dataset[\"train_set_y\"][:]) # your train set labels\n",
        " \n",
        "    test_dataset = h5py.File('/content/test_catvnoncat.h5', \"r\")\n",
        "    test_set_x_orig = np.array(test_dataset[\"test_set_x\"][:]) # your test set features\n",
        "    test_set_y_orig = np.array(test_dataset[\"test_set_y\"][:]) # your test set labels\n",
        " \n",
        "    classes = np.array(test_dataset[\"list_classes\"][:]) # the list of classes\n",
        " \n",
        "    train_set_y_orig = train_set_y_orig.reshape((1, train_set_y_orig.shape[0]))\n",
        "    test_set_y_orig = test_set_y_orig.reshape((1, test_set_y_orig.shape[0]))\n",
        " \n",
        "    return train_set_x_orig, train_set_y_orig, test_set_x_orig, test_set_y_orig, classes\n",
        " \n",
        " \n",
        "# Loading the data (non-cat)\n",
        "train_set_x_orig, train_set_y, test_set_x_orig, test_set_y, classes = load_dataset()\n",
        "index = 26\n",
        "plt.imshow(train_set_x_orig[index])\n",
        "print (\"y = \" + str(train_set_y[:, index]) + \", it's a \" + classes[np.squeeze(train_set_y[:, index])].decode(\"utf-8\") +  \" picture\")\n",
        "print(\"------\")\n",
        "print(\"Amit_599\")"
      ],
      "execution_count": null,
      "outputs": []
    },
    {
      "cell_type": "code",
      "metadata": {
        "id": "2P2gfXG79Qml"
      },
      "source": [
        " # Loading the data (cat)\n",
        "train_set_y_orig, train_set_x, test_set_y_orig, test_set_x, classes = load_dataset()\n",
        "index = 27\n",
        "plt.imshow(train_set_y_orig[index])\n",
        "print (\"y = \" + str(train_set_y[:,"
      ],
      "execution_count": null,
      "outputs": []
    },
    {
      "cell_type": "markdown",
      "metadata": {
        "id": "fMArdUoe9Tmp"
      },
      "source": [
        " PRACTICAL NO:- 8Linear Regression"
      ]
    },
    {
      "cell_type": "code",
      "metadata": {
        "id": "VyNrP2ZN9bhu"
      },
      "source": [
        " import matplotlib.pyplot as plt\n",
        "import pandas as pd\n",
        "import numpy as np"
      ],
      "execution_count": null,
      "outputs": []
    },
    {
      "cell_type": "code",
      "metadata": {
        "id": "XGhtmTk39gmO",
        "outputId": "cade6b61-155e-4f7e-83f0-149cd265b53a",
        "colab": {
          "base_uri": "https://localhost:8080/",
          "height": 359
        }
      },
      "source": [
        " x_and_y = [(0,1),(1,3),(2,2),(3,5),(4,7),(5,8),(6,8),(7,9),(8,10),(9,12)]\n",
        "data = pd.DataFrame(x_and_y, columns=['X','y'])\n",
        "data"
      ],
      "execution_count": null,
      "outputs": [
        {
          "output_type": "execute_result",
          "data": {
            "text/html": [
              "<div>\n",
              "<style scoped>\n",
              "    .dataframe tbody tr th:only-of-type {\n",
              "        vertical-align: middle;\n",
              "    }\n",
              "\n",
              "    .dataframe tbody tr th {\n",
              "        vertical-align: top;\n",
              "    }\n",
              "\n",
              "    .dataframe thead th {\n",
              "        text-align: right;\n",
              "    }\n",
              "</style>\n",
              "<table border=\"1\" class=\"dataframe\">\n",
              "  <thead>\n",
              "    <tr style=\"text-align: right;\">\n",
              "      <th></th>\n",
              "      <th>X</th>\n",
              "      <th>y</th>\n",
              "    </tr>\n",
              "  </thead>\n",
              "  <tbody>\n",
              "    <tr>\n",
              "      <th>0</th>\n",
              "      <td>0</td>\n",
              "      <td>1</td>\n",
              "    </tr>\n",
              "    <tr>\n",
              "      <th>1</th>\n",
              "      <td>1</td>\n",
              "      <td>3</td>\n",
              "    </tr>\n",
              "    <tr>\n",
              "      <th>2</th>\n",
              "      <td>2</td>\n",
              "      <td>2</td>\n",
              "    </tr>\n",
              "    <tr>\n",
              "      <th>3</th>\n",
              "      <td>3</td>\n",
              "      <td>5</td>\n",
              "    </tr>\n",
              "    <tr>\n",
              "      <th>4</th>\n",
              "      <td>4</td>\n",
              "      <td>7</td>\n",
              "    </tr>\n",
              "    <tr>\n",
              "      <th>5</th>\n",
              "      <td>5</td>\n",
              "      <td>8</td>\n",
              "    </tr>\n",
              "    <tr>\n",
              "      <th>6</th>\n",
              "      <td>6</td>\n",
              "      <td>8</td>\n",
              "    </tr>\n",
              "    <tr>\n",
              "      <th>7</th>\n",
              "      <td>7</td>\n",
              "      <td>9</td>\n",
              "    </tr>\n",
              "    <tr>\n",
              "      <th>8</th>\n",
              "      <td>8</td>\n",
              "      <td>10</td>\n",
              "    </tr>\n",
              "    <tr>\n",
              "      <th>9</th>\n",
              "      <td>9</td>\n",
              "      <td>12</td>\n",
              "    </tr>\n",
              "  </tbody>\n",
              "</table>\n",
              "</div>"
            ],
            "text/plain": [
              "   X   y\n",
              "0  0   1\n",
              "1  1   3\n",
              "2  2   2\n",
              "3  3   5\n",
              "4  4   7\n",
              "5  5   8\n",
              "6  6   8\n",
              "7  7   9\n",
              "8  8  10\n",
              "9  9  12"
            ]
          },
          "metadata": {
            "tags": []
          },
          "execution_count": 23
        }
      ]
    },
    {
      "cell_type": "code",
      "metadata": {
        "id": "4Ocfimh19luD",
        "outputId": "bbc83678-30ad-46e8-c528-a1f9b4003d89",
        "colab": {
          "base_uri": "https://localhost:8080/",
          "height": 252
        }
      },
      "source": [
        " X = data['X']\n",
        "y = data['y']\n",
        "b = 0\n",
        "w = 1.5\n",
        "y_predicted = b + w * X\n",
        "error = y - y_predicted\n",
        "print(np.mean(error**2))\n",
        "plt.scatter(X,y)\n",
        "plt.plot(X, y_predicted)\n",
        "print(\"-----\")\n",
        "print(\"Amit_599\")"
      ],
      "execution_count": null,
      "outputs": [
        {
          "output_type": "stream",
          "text": [
            "1.525\n",
            "-----\n",
            "Amit_599\n"
          ],
          "name": "stdout"
        },
        {
          "output_type": "display_data",
          "data": {
            "image/png": "[encoded data removed]",
            "text/plain": [
              "<Figure size 432x288 with 1 Axes>"
            ]
          },
          "metadata": {
            "tags": [],
            "needs_background": "light"
          }
        }
      ]
    },
    {
      "cell_type": "markdown",
      "metadata": {
        "id": "SrGHUCks99XF"
      },
      "source": [
        " PRACTICAL NO:- 9IMPLEMENT SUPPORT VECTOR ALGORITHM"
      ]
    },
    {
      "cell_type": "code",
      "metadata": {
        "id": "cfJ3n8xH-B2l",
        "outputId": "ab4deb13-9e34-423e-a092-6e7abc7187b0",
        "colab": {
          "base_uri": "https://localhost:8080/",
          "height": 416
        }
      },
      "source": [
        " import numpy as np\n",
        "import matplotlib.pyplot as plt\n",
        "from matplotlib import style\n",
        "style.use(\"ggplot\")\n",
        "from sklearn import svm\n",
        "x= [1,5,1.5,8,1,9]\n",
        "y= [2,8,1.8,8,0.6,11]\n",
        "plt.scatter(x,y)\n",
        "plt.show()\n",
        "X= np.array([[1,2],[5,8],[1.5,1.8],[8,8],[1,0.6],[9,11]])\n",
        "y=np.array([0,1,0,1,0,1])\n",
        "clf = svm.SVC(kernel='linear', C =1.0)\n",
        "clf.fit(X,y)\n",
        "w= clf.coef_[0]\n",
        "a= -w[0]/w[1]\n",
        "xx = np.linspace(0,12)\n",
        "yy = a* xx -  clf.intercept_[0]/w[1]\n",
        "h0 = plt.plot(xx,yy,'k-',label=\"non weighted div\")\n",
        "plt.scatter(X[:,0],X[:,1],c=y)\n",
        "plt.legend()\n",
        "plt.show()\n",
        "print(\"-----\")\n",
        "print(\"Amit_599\")"
      ],
      "execution_count": null,
      "outputs": [
        {
          "output_type": "display_data",
          "data": {
            "image/png": "[encoded data removed]",
            "text/plain": [
              "<Figure size 432x288 with 1 Axes>"
            ]
          },
          "metadata": {
            "tags": []
          }
        },
        {
          "output_type": "display_data",
          "data": {
            "image/png": "[encoded data removed]",
            "text/plain": [
              "<Figure size 432x288 with 1 Axes>"
            ]
          },
          "metadata": {
            "tags": []
          }
        },
        {
          "output_type": "stream",
          "text": [
            "-----\n",
            "Amit_599\n"
          ],
          "name": "stdout"
        }
      ]
    },
    {
      "cell_type": "markdown",
      "metadata": {
        "id": "VIpUBMLX-NYA"
      },
      "source": [
        " PRACTICAL NO:- 10\n",
        "DECISION TREE"
      ]
    },
    {
      "cell_type": "code",
      "metadata": {
        "id": "FWBqOT06-R0o",
        "outputId": "c2277141-a9e1-4e4a-9c48-24b9d2643bf4",
        "colab": {
          "base_uri": "https://localhost:8080/",
          "height": 670
        }
      },
      "source": [
        " from sklearn.datasets import load_iris\n",
        "from sklearn.tree import DecisionTreeClassifier\n",
        "from sklearn.model_selection import train_test_split\n",
        "from sklearn.metrics import confusion_matrix\n",
        "from sklearn.tree import export_graphviz\n",
        "from sklearn.externals.six import StringIO\n",
        "from IPython.display import Image\n",
        "from pydot import graph_from_dot_data\n",
        "import pandas as pd\n",
        "import numpy as np\n",
        " \n",
        "iris = load_iris()\n",
        "X = pd.DataFrame(iris.data, columns=iris.feature_names)\n",
        "print(\"Following are the columns of iris dataset\\n\")\n",
        "print(X)\n",
        "print(\"-----\")\n",
        "print(\"Amit_599\")\n",
        "y = pd.Categorical.from_codes(iris.target, iris.target_names)\n",
        " \n",
        "X.head()\n",
        "y = pd.get_dummies(y)\n",
        " \n",
        "X_train, X_test, y_train, y_test = train_test_split(X, y, random_state=1)\n",
        "dt = DecisionTreeClassifier()\n",
        "dt.fit(X_train, y_train)\n",
        " \n",
        "dot_data = StringIO()\n",
        "export_graphviz(dt, out_file=dot_data, feature_names=iris.feature_names)\n",
        "(graph, ) = graph_from_dot_data(dot_data.getvalue())\n",
        "Image(graph.create_png())"
      ],
      "execution_count": null,
      "outputs": [
        {
          "output_type": "stream",
          "text": [
            "Following are the columns of iris dataset\n",
            "\n",
            "     sepal length (cm)  sepal width (cm)  petal length (cm)  petal width (cm)\n",
            "0                  5.1               3.5                1.4               0.2\n",
            "1                  4.9               3.0                1.4               0.2\n",
            "2                  4.7               3.2                1.3               0.2\n",
            "3                  4.6               3.1                1.5               0.2\n",
            "4                  5.0               3.6                1.4               0.2\n",
            "..                 ...               ...                ...               ...\n",
            "145                6.7               3.0                5.2               2.3\n",
            "146                6.3               2.5                5.0               1.9\n",
            "147                6.5               3.0                5.2               2.0\n",
            "148                6.2               3.4                5.4               2.3\n",
            "149                5.9               3.0                5.1               1.8\n",
            "\n",
            "[150 rows x 4 columns]\n",
            "-----\n",
            "Amit_599\n"
          ],
          "name": "stdout"
        },
        {
          "output_type": "execute_result",
          "data": {
            "image/png": "[encoded data removed]",
            "text/plain": [
              "<IPython.core.display.Image object>"
            ]
          },
          "metadata": {
            "tags": []
          },
          "execution_count": 30
        }
      ]
    }
  ]
}